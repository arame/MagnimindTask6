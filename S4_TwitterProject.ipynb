{
 "cells": [
  {
   "cell_type": "code",
   "execution_count": 7,
   "metadata": {},
   "outputs": [
    {
     "name": "stdout",
     "output_type": "stream",
     "text": [
      "2023-02-07 13:00:29,559 | INFO : Cuda is available: True\n"
     ]
    }
   ],
   "source": [
    "import numpy as np\n",
    "import pandas as pd \n",
    "import torch\n",
    "import torch.nn as nn\n",
    "import torch.optim as optim\n",
    "from torch.optim import lr_scheduler\n",
    "import torchvision\n",
    "from torchvision import datasets, models, transforms\n",
    "from torchvision.models import ResNet18_Weights\n",
    "from torch.utils.data import DataLoader, Dataset\n",
    "import matplotlib.pyplot as plt\n",
    "from PIL import Image\n",
    "from pathlib import Path\n",
    "import logging, os, glob\n",
    "from _logging import set_logging\n",
    "from _metrics import display_metrics\n",
    "from _pckle import save_pickle_object, load_pickle_object\n",
    "from _utility import gl, get_perc, get_dictionaries_from_list\n",
    "from _model import train_model\n",
    "from _graph import accuracy_loss_graph\n",
    "\n",
    "set_logging(logging)\n",
    "logging.info(f\"Cuda is available: {torch.cuda.is_available()}\")\n",
    "device = torch.device('cuda' if torch.cuda.is_available() else 'cpu')\n",
    "classes = [\"Business\", \"Other\"]\n",
    "dict_classes, dict_classes_rev = get_dictionaries_from_list(classes)\n"
   ]
  },
  {
   "cell_type": "code",
   "execution_count": 8,
   "metadata": {},
   "outputs": [
    {
     "name": "stdout",
     "output_type": "stream",
     "text": [
      "2023-02-07 13:00:30,264 | INFO : Loading pickle file from: pickle\\pkle_train_loader.pkl\n",
      "2023-02-07 13:00:31,219 | INFO : Loading pickle file from: pickle\\pkle_val_loader.pkl\n"
     ]
    }
   ],
   "source": [
    "train_loader = load_pickle_object(gl.pkl_train_loader)\n",
    "val_loader = load_pickle_object(gl.pkl_val_loader)"
   ]
  },
  {
   "cell_type": "code",
   "execution_count": 9,
   "metadata": {},
   "outputs": [
    {
     "name": "stdout",
     "output_type": "stream",
     "text": [
      "2023-02-07 13:00:31,357 | INFO : Train dataset size: 35046\n",
      "2023-02-07 13:00:31,358 | INFO : Val dataset size: 8762\n"
     ]
    }
   ],
   "source": [
    "dataloaders = {\"train\": train_loader, \"val\": val_loader}\n",
    "train_dataset_size = len(train_loader.dataset)\n",
    "val_dataset_size = len(val_loader.dataset)\n",
    "dataset_sizes = {\"train\": train_dataset_size, \"val\": val_dataset_size}\n",
    "logging.info(f\"Train dataset size: {train_dataset_size}\")\n",
    "logging.info(f\"Val dataset size: {val_dataset_size}\")\n",
    "# Get the latest version of the Resnet weights and freeze the layers\n",
    "model_conv = torchvision.models.resnet18(weights=ResNet18_Weights.DEFAULT)\n",
    "for param in model_conv.parameters():\n",
    "    param.requires_grad = False\n",
    "# Parameters of newly constructed modules have requires_grad=True by default\n",
    "num_ftrs = model_conv.fc.in_features\n",
    "model_conv.fc = nn.Linear(num_ftrs, 2)\n",
    "model_conv = model_conv.to(device)\n",
    "criterion = nn.CrossEntropyLoss()\n",
    "# Only parameters of final layer are being optimized\n",
    "optimizer_ft = optim.Adam(model_conv.fc.parameters(), lr=0.0001)\n",
    "# Decay LR by a factor of 0.1 every 7 epochs\n",
    "exp_lr_scheduler = lr_scheduler.StepLR(optimizer_ft, step_size=7, gamma=0.1)"
   ]
  },
  {
   "attachments": {},
   "cell_type": "markdown",
   "metadata": {},
   "source": [
    "## Set up Checkpoint and Early Stopping"
   ]
  },
  {
   "cell_type": "code",
   "execution_count": 10,
   "metadata": {},
   "outputs": [],
   "source": [
    "if os.path.exists(gl.chk_dir) == False:\n",
    "    os.mkdir(gl.chk_dir)\n",
    "    \n",
    "checkpoint_path = os.path.join(gl.chk_dir, gl.chk_resnet_model)"
   ]
  },
  {
   "cell_type": "code",
   "execution_count": 11,
   "metadata": {},
   "outputs": [],
   "source": [
    "def load_checkpoint(checkpoint_path, model_conv, optimizer_ft):\n",
    "    checkpoint = torch.load(checkpoint_path)\n",
    "    model_conv.load_state_dict(checkpoint[\"model_state_dict\"])\n",
    "    optimizer_ft.load_state_dict(checkpoint[\"model_state_dict\"])\n",
    "    epoch = checkpoint[\"epoch\"]\n",
    "    loss = checkpoint[\"loss\"]\n",
    "    return checkpoint, model_conv, optimizer_ft, epoch, loss"
   ]
  },
  {
   "cell_type": "code",
   "execution_count": 12,
   "metadata": {},
   "outputs": [
    {
     "name": "stdout",
     "output_type": "stream",
     "text": [
      "2023-02-07 13:00:35,440 | INFO : Epoch 1/25\n",
      "2023-02-07 13:00:35,443 | INFO : ----------\n",
      "2023-02-07 13:52:05,828 | INFO : train Loss: 0.5830 Acc: 0.6839\n",
      "2023-02-07 14:03:19,195 | INFO : val Loss: 0.5226 Acc: 0.7401\n",
      "Best validation accuracy: 0.7401278246975577\n",
      "Saving best model for epoch: 1\n",
      "2023-02-07 14:03:20,765 | INFO : Epoch 2/25\n",
      "2023-02-07 14:03:20,765 | INFO : ----------\n",
      "2023-02-07 14:59:30,983 | INFO : train Loss: 0.5105 Acc: 0.7531\n",
      "2023-02-07 15:12:14,122 | INFO : val Loss: 0.4906 Acc: 0.7602\n",
      "Best validation accuracy: 0.7602145628851861\n",
      "Saving best model for epoch: 2\n",
      "2023-02-07 15:12:18,455 | INFO : Epoch 3/25\n",
      "2023-02-07 15:12:18,457 | INFO : ----------\n",
      "2023-02-07 16:04:25,485 | INFO : train Loss: 0.4943 Acc: 0.7622\n",
      "2023-02-07 16:15:49,450 | INFO : val Loss: 0.4829 Acc: 0.7685\n",
      "Best validation accuracy: 0.7685459940652819\n",
      "Saving best model for epoch: 3\n",
      "2023-02-07 16:15:50,490 | INFO : Epoch 4/25\n",
      "2023-02-07 16:15:50,491 | INFO : ----------\n",
      "2023-02-07 16:58:45,789 | INFO : train Loss: 0.4869 Acc: 0.7660\n",
      "2023-02-07 17:09:38,945 | INFO : val Loss: 0.4701 Acc: 0.7763\n",
      "Best validation accuracy: 0.7763067792741383\n",
      "Saving best model for epoch: 4\n",
      "2023-02-07 17:09:39,784 | INFO : Epoch 5/25\n",
      "2023-02-07 17:09:39,785 | INFO : ----------\n",
      "2023-02-07 17:59:36,130 | INFO : train Loss: 0.4847 Acc: 0.7700\n",
      "2023-02-07 18:11:43,918 | INFO : val Loss: 0.4651 Acc: 0.7816\n",
      "Best validation accuracy: 0.7815567222095412\n",
      "Saving best model for epoch: 5\n",
      "2023-02-07 18:11:46,763 | INFO : Epoch 6/25\n",
      "2023-02-07 18:11:46,764 | INFO : ----------\n",
      "2023-02-07 19:06:39,439 | INFO : train Loss: 0.4795 Acc: 0.7708\n",
      "2023-02-07 19:19:38,305 | INFO : val Loss: 0.4702 Acc: 0.7811\n",
      "EarlyStopping counter: 1 out of 2\n",
      "2023-02-07 19:19:38,662 | INFO : Epoch 7/25\n",
      "2023-02-07 19:19:38,663 | INFO : ----------\n",
      "2023-02-07 20:09:18,519 | INFO : train Loss: 0.4771 Acc: 0.7730\n",
      "2023-02-07 20:25:16,990 | INFO : val Loss: 0.4673 Acc: 0.7760\n",
      "EarlyStopping counter: 2 out of 2\n",
      "2023-02-07 20:25:18,084 | INFO : Early stopping for epoch: 7\n",
      "2023-02-07 20:25:18,084 | INFO : Training complete in 444m 43s\n",
      "2023-02-07 20:25:18,085 | INFO : Best val Acc: 0.781557\n",
      "2023-02-07 20:25:32,592 | INFO : Saving pickle file from: pickle\\model_conv.pkl\n"
     ]
    }
   ],
   "source": [
    "load_checkpoint_flag = False\n",
    "if load_checkpoint_flag:\n",
    "    checkpoint, model_conv, optimizer_ft, epoch, loss = \\\n",
    "        load_checkpoint(checkpoint_path, model_conv, optimizer_ft)\n",
    "    \n",
    "patience = 2\n",
    "model_conv, epoch_train_accuracy, epoch_train_losses, epoch_val_accuracy, epoch_val_losses = \\\n",
    "    train_model(model_conv, logging, criterion, optimizer_ft, exp_lr_scheduler, dataloaders, dataset_sizes, \n",
    "                         checkpoint_path, patience, num_epochs=25)\n",
    "\n",
    "save_pickle_object(model_conv, gl.pkl_model_conv)\n"
   ]
  },
  {
   "cell_type": "code",
   "execution_count": 13,
   "metadata": {},
   "outputs": [
    {
     "data": {
      "image/png": "[encoded data removed]",
      "text/plain": [
       "<Figure size 432x288 with 1 Axes>"
      ]
     },
     "metadata": {},
     "output_type": "display_data"
    }
   ],
   "source": [
    "\n",
    "accuracy_loss_graph(epoch_train_accuracy, epoch_train_losses, epoch_val_accuracy, epoch_val_losses)"
   ]
  },
  {
   "attachments": {},
   "cell_type": "markdown",
   "metadata": {},
   "source": [
    "The training and validation statistics are close to each other which shows that there is no overfitting.<br>\n",
    "The best results for the model training occured on the 5th epoch, so will we use this model in s5_TwitterProject.ipynb to test how good this model is."
   ]
  }
 ],
 "metadata": {
  "kernelspec": {
   "display_name": "base",
   "language": "python",
   "name": "python3"
  },
  "language_info": {
   "codemirror_mode": {
    "name": "ipython",
    "version": 3
   },
   "file_extension": ".py",
   "mimetype": "text/x-python",
   "name": "python",
   "nbconvert_exporter": "python",
   "pygments_lexer": "ipython3",
   "version": "3.9.12"
  },
  "orig_nbformat": 4,
  "vscode": {
   "interpreter": {
    "hash": "88279d2366fe020547cde40dd65aa0e3aa662a6ec1f3ca12d88834876c85e1a6"
   }
  }
 },
 "nbformat": 4,
 "nbformat_minor": 2
}
