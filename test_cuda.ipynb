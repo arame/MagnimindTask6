{
 "cells": [
  {
   "cell_type": "code",
   "execution_count": 1,
   "metadata": {},
   "outputs": [
    {
     "name": "stdout",
     "output_type": "stream",
     "text": [
      "2023-02-05 12:01:31,443 | INFO : Cuda is available: True\n",
      "2023-02-05 12:01:31,448 | INFO : Cuda count: 1\n",
      "2023-02-05 12:01:31,574 | INFO : Cuda current device: 0\n",
      "2023-02-05 12:01:31,575 | INFO : Cuda device name: NVIDIA GeForce GTX 1050 Ti\n",
      "2023-02-05 12:01:31,576 | INFO : Cuda version: 11.6\n"
     ]
    }
   ],
   "source": [
    "import torch\n",
    "import logging\n",
    "from _logging import set_logging\n",
    "\n",
    "set_logging(logging)\n",
    "logging.info(f\"Cuda is available: {torch.cuda.is_available()}\")\n",
    "logging.info(f\"Cuda count: {torch.cuda.device_count()}\")\n",
    "logging.info(f\"Cuda current device: {torch.cuda.current_device()}\")\n",
    "logging.info(f\"Cuda device name: {torch.cuda.get_device_name()}\")\n",
    "logging.info(f\"Cuda version: {torch.version.cuda}\")"
   ]
  }
 ],
 "metadata": {
  "kernelspec": {
   "display_name": "base",
   "language": "python",
   "name": "python3"
  },
  "language_info": {
   "codemirror_mode": {
    "name": "ipython",
    "version": 3
   },
   "file_extension": ".py",
   "mimetype": "text/x-python",
   "name": "python",
   "nbconvert_exporter": "python",
   "pygments_lexer": "ipython3",
   "version": "3.9.12"
  },
  "orig_nbformat": 4,
  "vscode": {
   "interpreter": {
    "hash": "88279d2366fe020547cde40dd65aa0e3aa662a6ec1f3ca12d88834876c85e1a6"
   }
  }
 },
 "nbformat": 4,
 "nbformat_minor": 2
}
